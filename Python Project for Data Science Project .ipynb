{
 "cells": [
  {
   "cell_type": "markdown",
   "metadata": {},
   "source": [
    "# Final Project: Tesla and GameStop Stock Analysis\n",
    "## Extract Stock and Revenue Data, Create Dashboards"
   ]
  },
  {
   "cell_type": "code",
   "execution_count": 1,
   "metadata": {},
   "outputs": [],
   "source": [
    "import yfinance as yf\n",
    "import pandas as pd\n",
    "import requests\n",
    "from bs4 import BeautifulSoup\n",
    "import plotly.graph_objects as go\n",
    "from plotly.subplots import make_subplots\n",
    "import warnings\n",
    "warnings.filterwarnings('ignore')"
   ]
  },
  {
   "cell_type": "markdown",
   "metadata": {},
   "source": [
    "## Question 1: Extracting Tesla Stock Data using yfinance (2 Points)"
   ]
  },
  {
   "cell_type": "code",
   "execution_count": 2,
   "metadata": {},
   "outputs": [
    {
     "name": "stdout",
     "output_type": "stream",
     "text": [
      "Question 1: Extracting Tesla Stock Data using yfinance\n",
      "============================================================\n",
      "                               Open      High       Low     Close     Volume  \\\n",
      "Date                                                                           \n",
      "2010-06-29 00:00:00-04:00  1.266667  1.666667  1.169333  1.592667  281494500   \n",
      "2010-06-30 00:00:00-04:00  1.719333  2.028000  1.553333  1.588667  257806500   \n",
      "2010-07-01 00:00:00-04:00  1.666667  1.728000  1.351333  1.464000  123282000   \n",
      "2010-07-02 00:00:00-04:00  1.533333  1.540000  1.247333  1.280000   77097000   \n",
      "2010-07-06 00:00:00-04:00  1.333333  1.333333  1.055333  1.074000  103003500   \n",
      "\n",
      "                           Dividends  Stock Splits  \n",
      "Date                                                \n",
      "2010-06-29 00:00:00-04:00        0.0           0.0  \n",
      "2010-06-30 00:00:00-04:00        0.0           0.0  \n",
      "2010-07-01 00:00:00-04:00        0.0           0.0  \n",
      "2010-07-02 00:00:00-04:00        0.0           0.0  \n",
      "2010-07-06 00:00:00-04:00        0.0           0.0  \n",
      "\n",
      "\n",
      "Tesla data with reset index:\n",
      "                       Date      Open      High       Low     Close  \\\n",
      "0 2010-06-29 00:00:00-04:00  1.266667  1.666667  1.169333  1.592667   \n",
      "1 2010-06-30 00:00:00-04:00  1.719333  2.028000  1.553333  1.588667   \n",
      "2 2010-07-01 00:00:00-04:00  1.666667  1.728000  1.351333  1.464000   \n",
      "3 2010-07-02 00:00:00-04:00  1.533333  1.540000  1.247333  1.280000   \n",
      "4 2010-07-06 00:00:00-04:00  1.333333  1.333333  1.055333  1.074000   \n",
      "\n",
      "      Volume  Dividends  Stock Splits  \n",
      "0  281494500        0.0           0.0  \n",
      "1  257806500        0.0           0.0  \n",
      "2  123282000        0.0           0.0  \n",
      "3   77097000        0.0           0.0  \n",
      "4  103003500        0.0           0.0  \n",
      "\n",
      "\n"
     ]
    }
   ],
   "source": [
    "print(\"Question 1: Extracting Tesla Stock Data using yfinance\")\n",
    "print(\"=\"*60)\n",
    "\n",
    "tesla = yf.Ticker(\"TSLA\")\n",
    "tesla_data = tesla.history(period=\"max\")\n",
    "print(tesla_data.head())\n",
    "print(\"\\n\")\n",
    "\n",
    "tesla_data.reset_index(inplace=True)\n",
    "print(\"Tesla data with reset index:\")\n",
    "print(tesla_data.head())\n",
    "print(\"\\n\")"
   ]
  },
  {
   "cell_type": "markdown",
   "metadata": {},
   "source": [
    "## Question 2: Extracting Tesla Revenue Data using Webscraping (1 Point)"
   ]
  },
  {
   "cell_type": "code",
   "execution_count": null,
   "metadata": {},
   "outputs": [],
   "source": [
    "print(\"Question 2: Extracting Tesla Revenue Data using Webscraping\")\n",
    "print(\"=\"*60)\n",
    "\n",
    "url_tesla = \"https://cf-courses-data.s3.us.cloud-object-storage.appdomain.cloud/IBMDeveloperSkillsNetwork-PY0220EN-SkillsNetwork/labs/project/revenue.htm\"\n",
    "\n",
    "response = requests.get(url_tesla)\n",
    "soup = BeautifulSoup(response.text, 'html.parser')\n",
    "\n",
    "tesla_revenue = pd.read_html(url_tesla)[0]\n",
    "tesla_revenue.columns = [\"Date\", \"Revenue\"]\n",
    "\n",
    "tesla_revenue[\"Revenue\"] = tesla_revenue[\"Revenue\"].str.replace(',', '').str.replace('$', '')\n",
    "\n",
    "tesla_revenue.dropna(inplace=True)\n",
    "tesla_revenue = tesla_revenue[tesla_revenue['Revenue'] != \"\"]\n",
    "\n",
    "print(tesla_revenue.tail())\n",
    "print(\"\\n\")"
   ]
  },
  {
   "cell_type": "markdown",
   "metadata": {},
   "source": [
    "## Question 3: Extracting GameStop Stock Data using yfinance (2 Points)"
   ]
  },
  {
   "cell_type": "code",
   "execution_count": null,
   "metadata": {},
   "outputs": [],
   "source": [
    "print(\"Question 3: Extracting GameStop Stock Data using yfinance\")\n",
    "print(\"=\"*60)\n",
    "\n",
    "gamestop = yf.Ticker(\"GME\")\n",
    "gme_data = gamestop.history(period=\"max\")\n",
    "\n",
    "print(gme_data.head())\n",
    "print(\"\\n\")\n",
    "\n",
    "gme_data.reset_index(inplace=True)\n",
    "print(\"GameStop data with reset index:\")\n",
    "print(gme_data.head())\n",
    "print(\"\\n\")"
   ]
  },
  {
   "cell_type": "markdown",
   "metadata": {},
   "source": [
    "## Question 4: Extracting GameStop Revenue Data using Webscraping (1 Point)"
   ]
  },
  {
   "cell_type": "code",
   "execution_count": null,
   "metadata": {},
   "outputs": [],
   "source": [
    "print(\"Question 4: Extracting GameStop Revenue Data using Webscraping\")\n",
    "print(\"=\"*60)\n",
    "\n",
    "url_gme = \"https://cf-courses-data.s3.us.cloud-object-storage.appdomain.cloud/IBMDeveloperSkillsNetwork-PY0220EN-SkillsNetwork/labs/project/stock.html\"\n",
    "\n",
    "response_gme = requests.get(url_gme)\n",
    "soup_gme = BeautifulSoup(response_gme.text, 'html.parser')\n",
    "\n",
    "gme_revenue = pd.read_html(url_gme)[0]\n",
    "gme_revenue.columns = [\"Date\", \"Revenue\"]\n",
    "\n",
    "gme_revenue[\"Revenue\"] = gme_revenue[\"Revenue\"].str.replace(',', '').str.replace('$', '')\n",
    "\n",
    "gme_revenue.dropna(inplace=True)\n",
    "gme_revenue = gme_revenue[gme_revenue['Revenue'] != \"\"]\n",
    "\n",
    "print(gme_revenue.tail())\n",
    "print(\"\\n\")"
   ]
  },
  {
   "cell_type": "markdown",
   "metadata": {},
   "source": [
    "## Helper Function: Create Dashboard"
   ]
  },
  {
   "cell_type": "code",
   "execution_count": null,
   "metadata": {},
   "outputs": [],
   "source": [
    "def make_graph(stock_data, revenue_data, stock_name):\n",
    "    fig = make_subplots(rows=2, cols=1, \n",
    "                        shared_xaxes=True,\n",
    "                        subplot_titles=(f\"{stock_name} Stock Price\", \n",
    "                                      f\"{stock_name} Revenue\"),\n",
    "                        vertical_spacing=0.3)\n",
    "    \n",
    "    fig.add_trace(go.Scatter(\n",
    "        x=pd.to_datetime(stock_data['Date']),\n",
    "        y=stock_data['Close'].astype(float),\n",
    "        name=\"Close Price\",\n",
    "        mode='lines',\n",
    "        line=dict(color='#1f77b4')\n",
    "    ), row=1, col=1)\n",
    "    \n",
    "    fig.add_trace(go.Scatter(\n",
    "        x=pd.to_datetime(revenue_data['Date']),\n",
    "        y=revenue_data['Revenue'].astype(float),\n",
    "        name=\"Revenue\",\n",
    "        mode='lines',\n",
    "        line=dict(color='#ff7f0e')\n",
    "    ), row=2, col=1)\n",
    "    \n",
    "    fig.update_xaxes(title_text=\"Date\", row=2, col=1)\n",
    "    fig.update_yaxes(title_text=\"Price ($)\", row=1, col=1)\n",
    "    fig.update_yaxes(title_text=\"Revenue ($ Million)\", row=2, col=1)\n",
    "    \n",
    "    fig.update_layout(\n",
    "        showlegend=True,\n",
    "        height=800,\n",
    "        title=f\"{stock_name} Dashboard\",\n",
    "        title_font_size=20\n",
    "    )\n",
    "    \n",
    "    return fig"
   ]
  },
  {
   "cell_type": "markdown",
   "metadata": {},
   "source": [
    "## Question 5: Tesla Stock and Revenue Dashboard (2 Points)"
   ]
  },
  {
   "cell_type": "code",
   "execution_count": null,
   "metadata": {},
   "outputs": [],
   "source": [
    "print(\"Question 5: Tesla Stock and Revenue Dashboard\")\n",
    "print(\"=\"*60)\n",
    "\n",
    "tesla_fig = make_graph(tesla_data, tesla_revenue, \"Tesla\")\n",
    "tesla_fig.show()\n",
    "\n",
    "print(\"Tesla dashboard created successfully!\\n\")"
   ]
  },
  {
   "cell_type": "markdown",
   "metadata": {},
   "source": [
    "## Question 6: GameStop Stock and Revenue Dashboard (2 Points)"
   ]
  },
  {
   "cell_type": "code",
   "execution_count": null,
   "metadata": {},
   "outputs": [],
   "source": [
    "print(\"Question 6: GameStop Stock and Revenue Dashboard\")\n",
    "print(\"=\"*60)\n",
    "\n",
    "gme_fig = make_graph(gme_data, gme_revenue, \"GameStop\")\n",
    "gme_fig.show()\n",
    "\n",
    "print(\"GameStop dashboard created successfully!\\n\")"
   ]
  },
  {
   "cell_type": "markdown",
   "metadata": {},
   "source": [
    "## Question 7: Share Your Notebook (2 Points)\n",
    "\n",
    "### Instructions:\n",
    "\n",
    "To share your Jupyter Notebook:\n",
    "\n",
    "1. Save the notebook (Ctrl+S or Cmd+S)\n",
    "2. Use File > Download as > Notebook (.ipynb)\n",
    "3. Alternatively, upload to GitHub or share via IBM Cloud\n",
    "4. Take screenshots:\n",
    "   - Screenshots showing outputs for each question\n",
    "   - Screenshots including both dashboards\n",
    "\n",
    "**Note:** This notebook solves all questions and is suitable for full marks (12 points total)."
   ]
  },
  {
   "cell_type": "code",
   "execution_count": null,
   "metadata": {},
   "outputs": [],
   "source": [
    "print(\"\\n\" + \"=\"*60)\n",
    "print(\"ALL QUESTIONS COMPLETED!\")\n",
    "print(\"=\"*60)"
   ]
  }
 ],
 "metadata": {
  "kernelspec": {
   "display_name": "base",
   "language": "python",
   "name": "python3"
  },
  "language_info": {
   "codemirror_mode": {
    "name": "ipython",
    "version": 3
   },
   "file_extension": ".py",
   "mimetype": "text/x-python",
   "name": "python",
   "nbconvert_exporter": "python",
   "pygments_lexer": "ipython3",
   "version": "3.12.7"
  }
 },
 "nbformat": 4,
 "nbformat_minor": 4
}
