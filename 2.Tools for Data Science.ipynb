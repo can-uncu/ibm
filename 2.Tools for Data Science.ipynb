{
 "cells": [
  {
   "cell_type": "markdown",
   "metadata": {},
   "source": [
    "# Data Science Tools and Ecosystem"
   ]
  },
  {
   "cell_type": "markdown",
   "metadata": {},
   "source": [
    "## Introduction\n",
    "\n",
    "In this notebook, Data Science Tools and Ecosystem are summarized. Data science is an interdisciplinary field that combines various technologies for data analysis, machine learning, and statistical modeling."
   ]
  },
  {
   "cell_type": "markdown",
   "metadata": {},
   "source": [
    "## Data Science Languages\n",
    "\n",
    "Some of the popular languages that Data Scientists use are:\n",
    "\n",
    "1. **Python** - The most popular data science language\n",
    "2. **R** - For statistical analysis and visualization\n",
    "3. **SQL** - Database management and querying\n",
    "4. **Julia** - High-performance scientific computing\n",
    "5. **Scala** - For big data processing\n",
    "6. **Java** - Enterprise-level applications\n",
    "7. **JavaScript** - Data visualization and web-based analytics"
   ]
  },
  {
   "cell_type": "markdown",
   "metadata": {},
   "source": [
    "## Data Science Libraries\n",
    "\n",
    "Some of the commonly used libraries used by Data Scientists include:\n",
    "\n",
    "- **NumPy** - Numerical computing and array operations\n",
    "- **Pandas** - Data manipulation and analysis\n",
    "- **Matplotlib** - Data visualization\n",
    "- **Seaborn** - Statistical data visualization\n",
    "- **Scikit-learn** - Machine learning algorithms\n",
    "- **TensorFlow** - Deep learning framework\n",
    "- **PyTorch** - Deep learning and neural networks\n",
    "- **Keras** - High-level neural network API\n",
    "- **SciPy** - Scientific and technical computing"
   ]
  },
  {
   "cell_type": "markdown",
   "metadata": {},
   "source": [
    "## Data Science Tools\n",
    "\n",
    "| Data Science Tools |\n",
    "|--------------------|\n",
    "| Jupyter Notebook |\n",
    "| RStudio |\n",
    "| Apache Spark |\n",
    "| Tableau |\n",
    "| Power BI |\n",
    "| GitHub |\n",
    "| TensorFlow |\n",
    "| Apache Hadoop |"
   ]
  },
  {
   "cell_type": "markdown",
   "metadata": {},
   "source": [
    "### Below are a few examples of evaluating arithmetic expressions in Python\n",
    "\n",
    "Arithmetic expressions are fundamental in programming and data science:\n",
    "\n",
    "- Addition: 5 + 3\n",
    "- Subtraction: 10 - 4\n",
    "- Multiplication: 6 * 7\n",
    "- Division: 15 / 3\n",
    "- Exponentiation: 2 ** 3"
   ]
  },
  {
   "cell_type": "code",
   "execution_count": 1,
   "metadata": {},
   "outputs": [
    {
     "name": "stdout",
     "output_type": "stream",
     "text": [
      "17\n"
     ]
    }
   ],
   "source": [
    "# This is a simple arithmetic expression to multiply then add integers\n",
    "result = (3 * 4) + 5\n",
    "print(result)"
   ]
  },
  {
   "cell_type": "code",
   "execution_count": 2,
   "metadata": {},
   "outputs": [
    {
     "name": "stdout",
     "output_type": "stream",
     "text": [
      "200 minutes is equal to 3.3333333333333335 hours\n"
     ]
    }
   ],
   "source": [
    "# This will convert 200 minutes to hours by dividing by 60\n",
    "minutes = 200\n",
    "hours = minutes / 60\n",
    "print(f\"{minutes} minutes is equal to {hours} hours\")"
   ]
  },
  {
   "cell_type": "markdown",
   "metadata": {},
   "source": [
    "## Objectives\n",
    "\n",
    "**Objectives:**\n",
    "\n",
    "- List popular languages for Data Science\n",
    "- Identify commonly used libraries in Data Science\n",
    "- Understand various Data Science tools\n",
    "- Perform basic arithmetic operations in Python\n",
    "- Convert units using Python code\n",
    "- Create and format Jupyter Notebook cells"
   ]
  },
  {
   "cell_type": "markdown",
   "metadata": {},
   "source": [
    "## Author\n",
    "\n",
    "**emrecan uncu**"
   ]
  },
  {
   "cell_type": "markdown",
   "metadata": {},
   "source": []
  }
 ],
 "metadata": {
  "kernelspec": {
   "display_name": "base",
   "language": "python",
   "name": "python3"
  },
  "language_info": {
   "codemirror_mode": {
    "name": "ipython",
    "version": 3
   },
   "file_extension": ".py",
   "mimetype": "text/x-python",
   "name": "python",
   "nbconvert_exporter": "python",
   "pygments_lexer": "ipython3",
   "version": "3.12.7"
  }
 },
 "nbformat": 4,
 "nbformat_minor": 4
}
